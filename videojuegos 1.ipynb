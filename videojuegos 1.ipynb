{
 "cells": [
  {
   "cell_type": "markdown",
   "id": "00e7e411-29ea-4ee6-a54e-8fb61c022e76",
   "metadata": {},
   "source": [
    "# Limpieza de datos\n",
    "\n",
    "Realice las operaciones y describa lo que va encontrando"
   ]
  },
  {
   "cell_type": "markdown",
   "id": "fc481f49-3324-4369-8038-a7b5b93aac7d",
   "metadata": {},
   "source": [
    "\n",
    "## 1. Vista rápida al dataset\n"
   ]
  },
  {
   "cell_type": "code",
   "execution_count": 28,
   "id": "fdfbe49d-2370-4e35-90f6-485e13532614",
   "metadata": {},
   "outputs": [],
   "source": [
    "#Primero importo las librerias\n",
    "# Importar librerías\n",
    "import pandas as pd\n",
    "import matplotlib.pyplot as plt\n",
    "import seaborn as sns\n",
    "from sklearn.ensemble import IsolationForest"
   ]
  },
  {
   "cell_type": "code",
   "execution_count": 2,
   "id": "b1fa2d45-ea07-4940-b76c-de21f1f4992d",
   "metadata": {},
   "outputs": [],
   "source": [
    "# Lectura\n",
    "# df = pd.read_csv(\"dataset_videojuegos.csv\",index_col=0) # Para que tenga el nombre como id asi las busquedas serán mas rapidas y eficientes\n",
    "df = pd.read_csv(\"dataset_videojuegos.csv\")\n",
    "#Decidi al final no dejar name cono indice ya que al parecer hay nombres duplicados en el dataset"
   ]
  },
  {
   "cell_type": "code",
   "execution_count": 3,
   "id": "5b0d8ea6-385d-420e-ae4b-fe7ebc3ee6d5",
   "metadata": {},
   "outputs": [
    {
     "name": "stdout",
     "output_type": "stream",
     "text": [
      "<class 'pandas.core.frame.DataFrame'>\n",
      "RangeIndex: 18800 entries, 0 to 18799\n",
      "Data columns (total 6 columns):\n",
      " #   Column        Non-Null Count  Dtype \n",
      "---  ------        --------------  ----- \n",
      " 0   name          18800 non-null  object\n",
      " 1   platform      18800 non-null  object\n",
      " 2   release_date  18800 non-null  object\n",
      " 3   summary       18686 non-null  object\n",
      " 4   meta_score    18800 non-null  int64 \n",
      " 5   user_review   18800 non-null  object\n",
      "dtypes: int64(1), object(5)\n",
      "memory usage: 881.4+ KB\n"
     ]
    }
   ],
   "source": [
    "#Vista de la informacion del data set\n",
    "df.info()"
   ]
  },
  {
   "cell_type": "code",
   "execution_count": 4,
   "id": "d2067450-1ab8-4c43-a9aa-7791f33a30f6",
   "metadata": {},
   "outputs": [
    {
     "data": {
      "text/html": [
       "<div>\n",
       "<style scoped>\n",
       "    .dataframe tbody tr th:only-of-type {\n",
       "        vertical-align: middle;\n",
       "    }\n",
       "\n",
       "    .dataframe tbody tr th {\n",
       "        vertical-align: top;\n",
       "    }\n",
       "\n",
       "    .dataframe thead th {\n",
       "        text-align: right;\n",
       "    }\n",
       "</style>\n",
       "<table border=\"1\" class=\"dataframe\">\n",
       "  <thead>\n",
       "    <tr style=\"text-align: right;\">\n",
       "      <th></th>\n",
       "      <th>name</th>\n",
       "      <th>platform</th>\n",
       "      <th>release_date</th>\n",
       "      <th>summary</th>\n",
       "      <th>meta_score</th>\n",
       "      <th>user_review</th>\n",
       "    </tr>\n",
       "  </thead>\n",
       "  <tbody>\n",
       "    <tr>\n",
       "      <th>0</th>\n",
       "      <td>The Legend of Zelda: Ocarina of Time</td>\n",
       "      <td>Nintendo 64</td>\n",
       "      <td>November 23, 1998</td>\n",
       "      <td>As a young boy, Link is tricked by Ganondorf, ...</td>\n",
       "      <td>99</td>\n",
       "      <td>9.1</td>\n",
       "    </tr>\n",
       "    <tr>\n",
       "      <th>1</th>\n",
       "      <td>Tony Hawk's Pro Skater 2</td>\n",
       "      <td>PlayStation</td>\n",
       "      <td>September 20, 2000</td>\n",
       "      <td>As most major publishers' development efforts ...</td>\n",
       "      <td>98</td>\n",
       "      <td>7.4</td>\n",
       "    </tr>\n",
       "    <tr>\n",
       "      <th>2</th>\n",
       "      <td>Grand Theft Auto IV</td>\n",
       "      <td>PlayStation 3</td>\n",
       "      <td>April 29, 2008</td>\n",
       "      <td>[Metacritic's 2008 PS3 Game of the Year; Also ...</td>\n",
       "      <td>98</td>\n",
       "      <td>7.7</td>\n",
       "    </tr>\n",
       "    <tr>\n",
       "      <th>3</th>\n",
       "      <td>SoulCalibur</td>\n",
       "      <td>Dreamcast</td>\n",
       "      <td>September 8, 1999</td>\n",
       "      <td>This is a tale of souls and swords, transcendi...</td>\n",
       "      <td>98</td>\n",
       "      <td>8.4</td>\n",
       "    </tr>\n",
       "    <tr>\n",
       "      <th>4</th>\n",
       "      <td>Grand Theft Auto IV</td>\n",
       "      <td>Xbox 360</td>\n",
       "      <td>April 29, 2008</td>\n",
       "      <td>[Metacritic's 2008 Xbox 360 Game of the Year; ...</td>\n",
       "      <td>98</td>\n",
       "      <td>7.9</td>\n",
       "    </tr>\n",
       "  </tbody>\n",
       "</table>\n",
       "</div>"
      ],
      "text/plain": [
       "                                   name        platform        release_date  \\\n",
       "0  The Legend of Zelda: Ocarina of Time     Nintendo 64   November 23, 1998   \n",
       "1              Tony Hawk's Pro Skater 2     PlayStation  September 20, 2000   \n",
       "2                   Grand Theft Auto IV   PlayStation 3      April 29, 2008   \n",
       "3                           SoulCalibur       Dreamcast   September 8, 1999   \n",
       "4                   Grand Theft Auto IV        Xbox 360      April 29, 2008   \n",
       "\n",
       "                                             summary  meta_score user_review  \n",
       "0  As a young boy, Link is tricked by Ganondorf, ...          99         9.1  \n",
       "1  As most major publishers' development efforts ...          98         7.4  \n",
       "2  [Metacritic's 2008 PS3 Game of the Year; Also ...          98         7.7  \n",
       "3  This is a tale of souls and swords, transcendi...          98         8.4  \n",
       "4  [Metacritic's 2008 Xbox 360 Game of the Year; ...          98         7.9  "
      ]
     },
     "execution_count": 4,
     "metadata": {},
     "output_type": "execute_result"
    }
   ],
   "source": [
    "df.head()"
   ]
  },
  {
   "cell_type": "markdown",
   "id": "54ec2643-72e6-45d0-bc97-8c79e6f0effe",
   "metadata": {},
   "source": [
    "## 2. Datos duplicados"
   ]
  },
  {
   "cell_type": "code",
   "execution_count": 10,
   "id": "1e55d913-7b53-4aac-b4d1-aba7219f2e27",
   "metadata": {},
   "outputs": [
    {
     "name": "stdout",
     "output_type": "stream",
     "text": [
      "0\n"
     ]
    }
   ],
   "source": [
    "#Verifico con duplicated().sum() si hay duplicados y si hay que los sume para ver cuandos datos duplicados tengo en el data set\n",
    "print(df.duplicated().sum())\n",
    "#(Si ejecutaba con el name en indice aparecian 3 duplicados)\n"
   ]
  },
  {
   "cell_type": "markdown",
   "id": "03419878-6bf1-4628-972b-31f40880d3fb",
   "metadata": {},
   "source": [
    "## 3. Datos nulos\n",
    "Muestre por columnas la cantidad de datos nulos, implemente una estrategia para no dejar ningun dato nulo, no elimine ningún dato.\n"
   ]
  },
  {
   "cell_type": "code",
   "execution_count": 6,
   "id": "e5281655-1761-41f2-809f-61a2a82ea5db",
   "metadata": {},
   "outputs": [
    {
     "name": "stdout",
     "output_type": "stream",
     "text": [
      "Columna: 'summary' - Filas con nulos: 114 - Porcentaje: 0.61%\n"
     ]
    }
   ],
   "source": [
    "for col in df.columns:\n",
    "    por = df[col].isnull().sum() / len(df) * 100  # Porcentaje\n",
    "    val = df[col].isnull().sum()\n",
    "    if val > 0:\n",
    "        print(f\"Columna: '{col}' - Filas con nulos: {val} - Porcentaje: {por:.2f}%\")\n"
   ]
  },
  {
   "cell_type": "code",
   "execution_count": 7,
   "id": "84eca04d-79a1-4e35-84a5-7e1d6be9008b",
   "metadata": {},
   "outputs": [
    {
     "name": "stdout",
     "output_type": "stream",
     "text": [
      "<class 'pandas.core.frame.DataFrame'>\n",
      "RangeIndex: 18800 entries, 0 to 18799\n",
      "Data columns (total 6 columns):\n",
      " #   Column        Non-Null Count  Dtype \n",
      "---  ------        --------------  ----- \n",
      " 0   name          18800 non-null  object\n",
      " 1   platform      18800 non-null  object\n",
      " 2   release_date  18800 non-null  object\n",
      " 3   summary       18800 non-null  object\n",
      " 4   meta_score    18800 non-null  int64 \n",
      " 5   user_review   18800 non-null  object\n",
      "dtypes: int64(1), object(5)\n",
      "memory usage: 881.4+ KB\n"
     ]
    },
    {
     "name": "stderr",
     "output_type": "stream",
     "text": [
      "C:\\Users\\OCHOA\\AppData\\Local\\Temp\\ipykernel_24120\\970426389.py:3: FutureWarning: A value is trying to be set on a copy of a DataFrame or Series through chained assignment using an inplace method.\n",
      "The behavior will change in pandas 3.0. This inplace method will never work because the intermediate object on which we are setting values always behaves as a copy.\n",
      "\n",
      "For example, when doing 'df[col].method(value, inplace=True)', try using 'df.method({col: value}, inplace=True)' or df[col] = df[col].method(value) instead, to perform the operation inplace on the original object.\n",
      "\n",
      "\n",
      "  df['summary'].fillna('Desconocido', inplace=True)\n"
     ]
    }
   ],
   "source": [
    "#Para no dejar ningun dato como nulo sin eliminar esas filas voy a rellenar esos datos con \"desconocido\" para no perder informacion valiosa\n",
    "# Rellenar valores faltantes en columnas categóricas\n",
    "df['summary'].fillna('Desconocido', inplace=True)\n",
    "df.info()"
   ]
  },
  {
   "cell_type": "markdown",
   "id": "9d1d1d85-e735-41af-a295-4231280c8a31",
   "metadata": {},
   "source": [
    "## 4. Verifique outlaiers de cada fila"
   ]
  },
  {
   "cell_type": "code",
   "execution_count": 30,
   "id": "c2fd96dc-714c-4a7a-aab3-a220147a2801",
   "metadata": {},
   "outputs": [
    {
     "name": "stdout",
     "output_type": "stream",
     "text": [
      "Filas con outliers en meta_score:\n",
      "                                                    name        platform  \\\n",
      "18541                                Tenchu: Dark Secret              DS   \n",
      "18542                        Napoleon Dynamite: The Game             PSP   \n",
      "18543  Torino 2006 - The Official Video Game of the X...              PC   \n",
      "18544                                        Pocket Pool             PSP   \n",
      "18545                                         Speed Zone             Wii   \n",
      "...                                                  ...             ...   \n",
      "18795                           Fast & Furious: Showdown        Xbox 360   \n",
      "18796                            Drake of the 99 Dragons            Xbox   \n",
      "18797         Afro Samurai 2: Revenge of Kuma Volume One   PlayStation 4   \n",
      "18798          Infestation: Survivor Stories (The War Z)              PC   \n",
      "18799                Leisure Suit Larry: Box Office Bust              PC   \n",
      "\n",
      "             release_date                                            summary  \\\n",
      "18541     August 21, 2006  (Also known as \"Tenchu: Dark Shadow\" Tenchu: D...   \n",
      "18542    October 23, 2007  Step into the moon boots of Napoleon Dynamite ...   \n",
      "18543    January 24, 2006  Featuring eight winter disciplines, 15 events,...   \n",
      "18544      April 18, 2007  Grab your stick and get ready to shoot pool wi...   \n",
      "18545     August 18, 2009  (Known as \"Wheelspin\" in the UK/EU) SOLO mode ...   \n",
      "...                   ...                                                ...   \n",
      "18795        May 21, 2013  Fast & Furious: Showdown takes some of the fra...   \n",
      "18796    November 3, 2003  Drake is out for revenge in a supernatural Hon...   \n",
      "18797  September 22, 2015  Head out on a journey of redemption, driven by...   \n",
      "18798    October 15, 2012  (Formerly known as \"The War Z\") It has been 5 ...   \n",
      "18799      March 31, 2009  The Leisure Suit Larry: Box Office Bust video ...   \n",
      "\n",
      "       meta_score user_review  \n",
      "18541          37         5.8  \n",
      "18542          37         4.6  \n",
      "18543          37         5.5  \n",
      "18544          37         tbd  \n",
      "18545          37         3.8  \n",
      "...           ...         ...  \n",
      "18795          22         1.3  \n",
      "18796          22         1.7  \n",
      "18797          21         2.9  \n",
      "18798          20         1.7  \n",
      "18799          20         2.0  \n",
      "\n",
      "[225 rows x 6 columns]\n"
     ]
    },
    {
     "data": {
      "image/png": "[encoded data removed]",
      "text/plain": [
       "<Figure size 800x600 with 1 Axes>"
      ]
     },
     "metadata": {},
     "output_type": "display_data"
    },
    {
     "name": "stdout",
     "output_type": "stream",
     "text": [
      "Filas identificadas como outliers:\n",
      "                                             name        platform  \\\n",
      "0            The Legend of Zelda: Ocarina of Time     Nintendo 64   \n",
      "5                              Super Mario Galaxy             Wii   \n",
      "6                            Super Mario Galaxy 2             Wii   \n",
      "18                                  Metroid Prime        GameCube   \n",
      "20                            Super Mario Odyssey          Switch   \n",
      "...                                           ...             ...   \n",
      "18795                    Fast & Furious: Showdown        Xbox 360   \n",
      "18796                     Drake of the 99 Dragons            Xbox   \n",
      "18797  Afro Samurai 2: Revenge of Kuma Volume One   PlayStation 4   \n",
      "18798   Infestation: Survivor Stories (The War Z)              PC   \n",
      "18799         Leisure Suit Larry: Box Office Bust              PC   \n",
      "\n",
      "             release_date                                            summary  \\\n",
      "0       November 23, 1998  As a young boy, Link is tricked by Ganondorf, ...   \n",
      "5       November 12, 2007  [Metacritic's 2007 Wii Game of the Year] The u...   \n",
      "6            May 23, 2010  Super Mario Galaxy 2, the sequel to the galaxy...   \n",
      "18      November 17, 2002  Samus returns in a new mission to unravel the ...   \n",
      "20       October 27, 2017  New Evolution of Mario Sandbox-Style Gameplay....   \n",
      "...                   ...                                                ...   \n",
      "18795        May 21, 2013  Fast & Furious: Showdown takes some of the fra...   \n",
      "18796    November 3, 2003  Drake is out for revenge in a supernatural Hon...   \n",
      "18797  September 22, 2015  Head out on a journey of redemption, driven by...   \n",
      "18798    October 15, 2012  (Formerly known as \"The War Z\") It has been 5 ...   \n",
      "18799      March 31, 2009  The Leisure Suit Larry: Box Office Bust video ...   \n",
      "\n",
      "       meta_score user_review  is_outlier  \n",
      "0              99         9.1        True  \n",
      "5              97         9.1        True  \n",
      "6              97         9.1        True  \n",
      "18             97         8.6        True  \n",
      "20             97         8.9        True  \n",
      "...           ...         ...         ...  \n",
      "18795          22         1.3        True  \n",
      "18796          22         1.7        True  \n",
      "18797          21         2.9        True  \n",
      "18798          20         1.7        True  \n",
      "18799          20         2.0        True  \n",
      "\n",
      "[575 rows x 7 columns]\n"
     ]
    },
    {
     "data": {
      "image/png": "[encoded data removed]",
      "text/plain": [
       "<Figure size 1000x600 with 1 Axes>"
      ]
     },
     "metadata": {},
     "output_type": "display_data"
    }
   ],
   "source": [
    "#Ahora para verificar los outlaiers por fila\n",
    "\n",
    "# # Supongamos que tu DataFrame se llama df\n",
    "# Q1 = df['meta_score'].quantile(0.25)\n",
    "# Q3 = df['meta_score'].quantile(0.75)\n",
    "# IQR = Q3 - Q1\n",
    "\n",
    "# # Definir los límites para identificar outliers\n",
    "# lower_bound = Q1 - 1.5 * IQR\n",
    "# upper_bound = Q3 + 1.5 * IQR\n",
    "\n",
    "# # Filtrar los outliers\n",
    "# outliers = df[(df['meta_score'] < lower_bound) | (df['meta_score'] > upper_bound)]\n",
    "# print(outliers)\n",
    "# Calcular el IQR para meta_score\n",
    "Q1 = df['meta_score'].quantile(0.25)\n",
    "Q3 = df['meta_score'].quantile(0.75)\n",
    "IQR = Q3 - Q1\n",
    "\n",
    "# Definir límites para outliers\n",
    "lower_bound = Q1 - 1.5 * IQR\n",
    "upper_bound = Q3 + 1.5 * IQR\n",
    "\n",
    "# Identificar filas con outliers en meta_score\n",
    "outliers = df[(df['meta_score'] < lower_bound) | (df['meta_score'] > upper_bound)]\n",
    "print(\"Filas con outliers en meta_score:\")\n",
    "print(outliers)\n",
    "# Crear un boxplot para meta_score\n",
    "plt.figure(figsize=(8, 6))\n",
    "sns.boxplot(x=df['meta_score'], color='lightblue')\n",
    "plt.title('Boxplot de meta_score (Outliers)')\n",
    "plt.xlabel('meta_score')\n",
    "plt.show()\n",
    "\n",
    "\n",
    "# Seleccionar solo la columna numérica (meta_score)\n",
    "X = df[['meta_score']]\n",
    "\n",
    "# Aplicar Isolation Forest\n",
    "iso_forest = IsolationForest(contamination=0.05)  # Ajusta el porcentaje de outliers esperado\n",
    "outliers = iso_forest.fit_predict(X)\n",
    "\n",
    "# Añadir una columna al DataFrame para identificar outliers\n",
    "df['is_outlier'] = outliers == -1\n",
    "\n",
    "# Filtrar filas que son outliers\n",
    "outliers_df = df[df['is_outlier']]\n",
    "print(\"Filas identificadas como outliers:\")\n",
    "print(outliers_df)\n",
    "# Crear un scatter plot para visualizar outliers\n",
    "plt.figure(figsize=(10, 6))\n",
    "sns.scatterplot(x=df.index, y=df['meta_score'], hue=df['is_outlier'], palette={True: 'red', False: 'blue'})\n",
    "plt.title('Outliers por fila en meta_score')\n",
    "plt.xlabel('Índice de fila')\n",
    "plt.ylabel('meta_score')\n",
    "plt.legend(title='Es outlier')\n",
    "plt.show()"
   ]
  },
  {
   "cell_type": "markdown",
   "id": "4093d435-76e3-49ea-beb3-b5ff8db8f51c",
   "metadata": {},
   "source": [
    "## 4.1 Datos numéricos"
   ]
  },
  {
   "cell_type": "code",
   "execution_count": 27,
   "id": "9e707569-8a29-41d5-a652-27d8aef55b9c",
   "metadata": {},
   "outputs": [
    {
     "data": {
      "image/png": "[encoded data removed]",
      "text/plain": [
       "<Figure size 640x480 with 1 Axes>"
      ]
     },
     "metadata": {},
     "output_type": "display_data"
    },
    {
     "name": "stdout",
     "output_type": "stream",
     "text": [
      "Empty DataFrame\n",
      "Columns: [name, platform, release_date, summary, meta_score, user_review]\n",
      "Index: []\n"
     ]
    },
    {
     "data": {
      "text/html": [
       "<div>\n",
       "<style scoped>\n",
       "    .dataframe tbody tr th:only-of-type {\n",
       "        vertical-align: middle;\n",
       "    }\n",
       "\n",
       "    .dataframe tbody tr th {\n",
       "        vertical-align: top;\n",
       "    }\n",
       "\n",
       "    .dataframe thead th {\n",
       "        text-align: right;\n",
       "    }\n",
       "</style>\n",
       "<table border=\"1\" class=\"dataframe\">\n",
       "  <thead>\n",
       "    <tr style=\"text-align: right;\">\n",
       "      <th></th>\n",
       "      <th>name</th>\n",
       "      <th>platform</th>\n",
       "      <th>release_date</th>\n",
       "      <th>summary</th>\n",
       "      <th>meta_score</th>\n",
       "      <th>user_review</th>\n",
       "    </tr>\n",
       "  </thead>\n",
       "  <tbody>\n",
       "    <tr>\n",
       "      <th>18798</th>\n",
       "      <td>Infestation: Survivor Stories (The War Z)</td>\n",
       "      <td>PC</td>\n",
       "      <td>October 15, 2012</td>\n",
       "      <td>(Formerly known as \"The War Z\") It has been 5 ...</td>\n",
       "      <td>20</td>\n",
       "      <td>1.7</td>\n",
       "    </tr>\n",
       "    <tr>\n",
       "      <th>18799</th>\n",
       "      <td>Leisure Suit Larry: Box Office Bust</td>\n",
       "      <td>PC</td>\n",
       "      <td>March 31, 2009</td>\n",
       "      <td>The Leisure Suit Larry: Box Office Bust video ...</td>\n",
       "      <td>20</td>\n",
       "      <td>2.0</td>\n",
       "    </tr>\n",
       "  </tbody>\n",
       "</table>\n",
       "</div>"
      ],
      "text/plain": [
       "                                            name platform      release_date  \\\n",
       "18798  Infestation: Survivor Stories (The War Z)       PC  October 15, 2012   \n",
       "18799        Leisure Suit Larry: Box Office Bust       PC    March 31, 2009   \n",
       "\n",
       "                                                 summary  meta_score  \\\n",
       "18798  (Formerly known as \"The War Z\") It has been 5 ...          20   \n",
       "18799  The Leisure Suit Larry: Box Office Bust video ...          20   \n",
       "\n",
       "      user_review  \n",
       "18798         1.7  \n",
       "18799         2.0  "
      ]
     },
     "execution_count": 27,
     "metadata": {},
     "output_type": "execute_result"
    }
   ],
   "source": [
    "# Comienzo graficando 'meta_score'\n",
    "\n",
    "plt.boxplot(df['meta_score'])\n",
    "plt.title('meta_score')\n",
    "plt.show()\n",
    "\n",
    "print(df[df['meta_score']>100])\n",
    "df[df['meta_score']<=20]\n",
    "#Puede que si sea una calificacion muy baja para algun juego pero no hay valores megativos ni mayores al maximo que es 100"
   ]
  },
  {
   "cell_type": "markdown",
   "id": "130c11d0-6374-4656-99c6-1403099f22e8",
   "metadata": {},
   "source": [
    "## 4.2 Datos categóricos"
   ]
  },
  {
   "cell_type": "code",
   "execution_count": 27,
   "id": "50547681-c47f-4a7e-8adf-097e4ffa183e",
   "metadata": {},
   "outputs": [
    {
     "data": {
      "text/plain": [
       "Index(['name', 'platform', 'release_date', 'summary', 'user_review'], dtype='object')"
      ]
     },
     "execution_count": 27,
     "metadata": {},
     "output_type": "execute_result"
    }
   ],
   "source": [
    "#Como obtener las columnas con valores categoricos 'Object' y eso es tipo cadena\n",
    "cols_categoricos = df.select_dtypes(include = ['object']).columns\n",
    "cols_categoricos"
   ]
  },
  {
   "cell_type": "code",
   "execution_count": 22,
   "id": "8ae88b56-89cc-493e-bd16-71abf8d49640",
   "metadata": {},
   "outputs": [
    {
     "name": "stdout",
     "output_type": "stream",
     "text": [
      "Columna name: ['The Legend of Zelda: Ocarina of Time' \"Tony Hawk's Pro Skater 2\"\n",
      " 'Grand Theft Auto IV' ... 'Drake of the 99 Dragons'\n",
      " 'Afro Samurai 2: Revenge of Kuma Volume One'\n",
      " 'Infestation: Survivor Stories (The War Z)'] valores \n",
      " 12254 subniveles \n",
      "NUMERO DE DUPLICADOOOOOO Columna name: 6546\n",
      "Columna platform: [' Nintendo 64' ' PlayStation' ' PlayStation 3' ' Dreamcast' ' Xbox 360'\n",
      " ' Wii' ' Xbox One' ' PC' ' Switch' ' PlayStation 2' ' PlayStation 4'\n",
      " ' GameCube' ' Xbox' ' Wii U' ' Game Boy Advance' ' 3DS' ' Xbox Series X'\n",
      " ' DS' ' PlayStation Vita' ' PlayStation 5' ' PSP' ' Stadia'] valores \n",
      " 22 subniveles \n",
      "NUMERO DE DUPLICADOOOOOO Columna platform: 18778\n",
      "Columna release_date: ['November 23, 1998' 'September 20, 2000' 'April 29, 2008' ...\n",
      " 'July 5, 2007' 'April 25, 2001' 'July 6, 2006'] valores \n",
      " 4533 subniveles \n",
      "NUMERO DE DUPLICADOOOOOO Columna release_date: 14267\n",
      "Columna summary: ['As a young boy, Link is tricked by Ganondorf, the King of the Gerudo Thieves. The evil human uses Link to gain access to the Sacred Realm, where he places his tainted hands on Triforce and transforms the beautiful Hyrulean landscape into a barren wasteland. Link is determined to fix the problems he helped to create, so with the help of Rauru he travels through time gathering the powers of the Seven Sages.'\n",
      " \"As most major publishers' development efforts shift to any number of next-generation platforms, Tony Hawk 2 will likely stand as one of the last truly fantastic games to be released on the PlayStation.\"\n",
      " '[Metacritic\\'s 2008 PS3 Game of the Year; Also known as \"GTA IV\"] What does the American Dream mean today? For Niko Belic, fresh off the boat from Europe. It\\'s the hope he can escape his past. For his cousin, Roman, it is the vision that together they can find fortune in Liberty City, gateway to the land of opportunity. As they slip into debt and are dragged into a criminal underworld by a series of shysters, thieves and sociopaths, they discover that the reality is very different from the dream in a city that worships money and status, and is heaven for those who have them an a living nightmare for those who don\\'t. [Rockstar Games]'\n",
      " ...\n",
      " \"Drake is out for revenge in a supernatural Hong Kong world. You'll join Drake in 25 intense missions, as he battles ruthless villains and female assassins with an array of firearms, short and long blade weapons, and thrown melee weapons. Use Drake's power and agility to slow down the action, fire guns in any direction, and run and backflip off of walls. When you become injured, you can feed on the souls of the dead to replenish your health.\"\n",
      " 'Head out on a journey of redemption, driven by bitter-sweet revenge. The saga of Afro Samurai continues but this time follows the path of Kuma, one of Afro’s closest childhood friends.'\n",
      " '(Formerly known as \"The War Z\") It has been 5 years since the outbreak, giving rise to a post-apocalyptic nightmare with 95% of the human race wiped out. To survive, you\\'ll require food, weapons, and other supplies. Some of you will scavenge as you negotiate the terrain, others will be forced to fight for survival as they encounter zombies and other players. Every decision has an effect on whether you live or how quickly you meet your death.'] valores \n",
      " 14648 subniveles \n",
      "NUMERO DE DUPLICADOOOOOO Columna summary: 4152\n",
      "Columna user_review: ['9.1' '7.4' '7.7' '8.4' '7.9' '8.0' '8.3' '6.2' '8.7' '7.5' '8.8' '8.5'\n",
      " '8.6' '8.9' '8.2' '9.2' '7.8' '9.0' '9.3' '8.1' '6.8' '7.6' '6.9' '6.6'\n",
      " '7.3' '7.2' '9.4' '5.7' '6.0' '5.8' '7.1' '3.3' '5.0' '5.5' '6.5' '5.9'\n",
      " '6.7' '3.8' '6.4' '7.0' '6.3' '4.9' 'tbd' '5.3' '3.5' '4.7' '6.1' '4.8'\n",
      " '4.1' '5.6' '4.4' '5.4' '4.6' '3.1' '5.2' '4.3' '1.8' '4.5' '5.1' '4.2'\n",
      " '4.0' '9.7' '3.2' '2.9' '2.1' '2.4' '3.4' '3.0' '3.7' '2.2' '2.6' '2.7'\n",
      " '2.5' '2.8' '3.9' '2.0' '9.6' '1.5' '3.6' '1.4' '1.2' '0.9' '1.9' '1.1'\n",
      " '1.7' '0.8' '1.0' '0.6' '2.3' '0.5' '1.6' '0.2' '0.7' '1.3'] valores \n",
      " 94 subniveles \n",
      "NUMERO DE DUPLICADOOOOOO Columna user_review: 18706\n"
     ]
    }
   ],
   "source": [
    "#Conteo de los valores diferentes por columna\n",
    "for col in cols_categoricos:\n",
    "    print(f\"Columna {col}: {df[col].unique()} valores \\n {df[col].nunique()} subniveles \")\n",
    "    print(f\"NUMERO DE DUPLICADOOOOOO Columna {col}: {df[col].duplicated().sum()}\")"
   ]
  },
  {
   "cell_type": "markdown",
   "id": "ee789a20-9d3a-48c0-a004-d3584b0e9ed1",
   "metadata": {},
   "source": [
    "### Despues de verificar si hay duplicados puedo decir que en las demas columnas lo veo normal como 'plataform' pero en 'name' no podria decir lo mismo que tan normal sea que haya names repetidos segun yo no deberia ser normal"
   ]
  },
  {
   "cell_type": "code",
   "execution_count": 23,
   "id": "ee7cada4-037d-4c3f-bd4e-3b283772b8b7",
   "metadata": {},
   "outputs": [],
   "source": [
    "df.drop_duplicates(subset=['name'], keep='last', inplace=True)  # Conserva la última ocurrencia"
   ]
  },
  {
   "cell_type": "code",
   "execution_count": 25,
   "id": "ea22ade0-50cd-48ec-bf93-de9a67fd4ca3",
   "metadata": {},
   "outputs": [
    {
     "name": "stdout",
     "output_type": "stream",
     "text": [
      "Columna name: ['The Legend of Zelda: Ocarina of Time' 'Super Mario Galaxy'\n",
      " 'Super Mario Galaxy 2' ... 'Afro Samurai 2: Revenge of Kuma Volume One'\n",
      " 'Infestation: Survivor Stories (The War Z)'\n",
      " 'Leisure Suit Larry: Box Office Bust'] valores \n",
      " 12254 subniveles \n",
      "NUMERO DE DUPLICADOOOOOO Columna name: 0\n",
      "Columna platform: [' Nintendo 64' ' Wii' ' GameCube' ' Switch' ' Dreamcast' ' PC' ' Wii U'\n",
      " ' PlayStation 3' ' PlayStation' ' PlayStation 2' ' Xbox'\n",
      " ' Game Boy Advance' ' PlayStation 4' ' Xbox 360' ' 3DS' ' DS' ' Xbox One'\n",
      " ' PSP' ' Xbox Series X' ' PlayStation 5' ' PlayStation Vita' ' Stadia'] valores \n",
      " 22 subniveles \n",
      "NUMERO DE DUPLICADOOOOOO Columna platform: 12232\n",
      "Columna release_date: ['November 23, 1998' 'November 12, 2007' 'May 23, 2010' ...\n",
      " 'April 25, 2001' 'July 6, 2006' 'December 21, 2011'] valores \n",
      " 4185 subniveles \n",
      "NUMERO DE DUPLICADOOOOOO Columna release_date: 8069\n",
      "Columna summary: ['As a young boy, Link is tricked by Ganondorf, the King of the Gerudo Thieves. The evil human uses Link to gain access to the Sacred Realm, where he places his tainted hands on Triforce and transforms the beautiful Hyrulean landscape into a barren wasteland. Link is determined to fix the problems he helped to create, so with the help of Rauru he travels through time gathering the powers of the Seven Sages.'\n",
      " \"[Metacritic's 2007 Wii Game of the Year] The ultimate Nintendo hero is taking the ultimate step ... out into space. Join Mario as he ushers in a new era of video games, defying gravity across all the planets in the galaxy. When some creature escapes into space with Princess Peach, Mario gives chase, exploring bizarre planets all across the galaxy. Mario, Peach and enemies new and old are here. Players run, jump and battle enemies as they explore all the planets in the galaxy. Since this game makes full use of all the features of the Wii Remote, players have to do all kinds of things to succeed: pressing buttons, swinging the Wii Remote and the Nunchuk, and even pointing at and dragging things with the pointer. Since he's in space, Mario can perform mind-bending jumps unlike anything he's done before. He'll also have a wealth of new moves that are all based around tilting, pointing and shaking the Wii Remote. Shake, tilt and point! Mario takes advantage of all the unique aspects of the Wii Remote and Nunchuk controller, unleashing new moves as players shake the controller and even point at and drag items with the pointer. [Nintendo]\"\n",
      " 'Super Mario Galaxy 2, the sequel to the galaxy-hopping original game, includes the gravity-defying, physics-based exploration from the first game, but is loaded with entirely new galaxies and features to challenge players. On some stages, Mario can pair up with his dinosaur buddy Yoshi and use his tongue to grab items and spit them back at enemies. Players can also have fun with new items such as a drill that lets our hero tunnel through solid rock. [Nintendo]'\n",
      " ...\n",
      " 'Head out on a journey of redemption, driven by bitter-sweet revenge. The saga of Afro Samurai continues but this time follows the path of Kuma, one of Afro’s closest childhood friends.'\n",
      " '(Formerly known as \"The War Z\") It has been 5 years since the outbreak, giving rise to a post-apocalyptic nightmare with 95% of the human race wiped out. To survive, you\\'ll require food, weapons, and other supplies. Some of you will scavenge as you negotiate the terrain, others will be forced to fight for survival as they encounter zombies and other players. Every decision has an effect on whether you live or how quickly you meet your death.'\n",
      " 'The Leisure Suit Larry: Box Office Bust video game gives gamers an all-access pass to the glitz, glamour and gorgeous women of Tinseltown. In this 3rd person adventure game, Larry takes a summer job working on his uncle Larry’s movie lot doing odd jobs and trying to uncover a mole from another studio who threatens to air the studio\\'s dirty laundry in the tabloids. Leisure Suit Larry: Box Office Bust is a rollicking, innuendo-laden lampoon of Hollywood that features open world sand box game play that includes exploration, platforming, racing and puzzle-solving to complete missions. Additionally, the game features an all-new Directors Game that allows the player to create their very own \"Larry Feature.\" True to form, Leisure Suit Larry Box Office Bust features sophomoric comedy and bombshell babes thanks to the writing talents of Allen Covert and an All-Star cast of actors and actresses, including Jay Mohr, Dave Attell, Shannon Elizabeth, Carmen Elektra, Patrick Warburton, Jeffrey Tambor, Nikki Cox, Peter Graves, Jane Lynch and Josh Keaton as the voice of Larry Loveage. [Sierra Entertainment]'] valores \n",
      " 11991 subniveles \n",
      "NUMERO DE DUPLICADOOOOOO Columna summary: 263\n",
      "Columna user_review: ['9.1' '8.6' '8.9' '8.2' '6.2' '7.8' '8.3' '8.8' '9.0' '8.1' '8.4' '9.2'\n",
      " '8.7' '8.5' '5.7' '7.9' '7.2' '7.4' '7.5' '7.1' '7.6' '6.9' '3.3' '7.7'\n",
      " '8.0' '6.6' '6.7' '5.5' '5.8' '7.3' '6.5' '7.0' '6.3' '6.0' 'tbd' '6.8'\n",
      " '4.7' '6.1' '5.0' '4.8' '6.4' '5.4' '4.6' '5.6' '5.2' '4.5' '5.1' '4.1'\n",
      " '3.1' '4.3' '4.2' '9.3' '9.7' '3.2' '4.9' '4.0' '5.9' '3.0' '3.7' '2.6'\n",
      " '4.4' '3.4' '2.2' '2.0' '5.3' '3.6' '1.2' '3.9' '2.8' '2.5' '1.5' '3.5'\n",
      " '3.8' '1.4' '1.8' '2.1' '1.1' '1.7' '0.8' '1.0' '2.7' '2.3' '9.6' '0.5'\n",
      " '2.9' '2.4' '1.9' '0.2' '0.6' '0.7' '1.6' '1.3'] valores \n",
      " 92 subniveles \n",
      "NUMERO DE DUPLICADOOOOOO Columna user_review: 12162\n"
     ]
    }
   ],
   "source": [
    "#Vuelvo a checar si tengo duplicados en 'name' en este caso que es el que yo lo vi anormal y puedo decir que ya no hay duplicados!\n",
    "for col in cols_categoricos:\n",
    "    print(f\"Columna {col}: {df[col].unique()} valores \\n {df[col].nunique()} subniveles \")\n",
    "    print(f\"NUMERO DE DUPLICADOOOOOO Columna {col}: {df[col].duplicated().sum()}\")"
   ]
  },
  {
   "cell_type": "code",
   "execution_count": null,
   "id": "397b77a0-f3d5-4650-bbed-19445b404568",
   "metadata": {},
   "outputs": [],
   "source": [
    "# por ultimo creo un nuevo dataset con los datos limpiados:\n",
    "df.to_csv('netflix_titles_clean.csv')"
   ]
  }
 ],
 "metadata": {
  "kernelspec": {
   "display_name": "Python 3 (ipykernel)",
   "language": "python",
   "name": "python3"
  },
  "language_info": {
   "codemirror_mode": {
    "name": "ipython",
    "version": 3
   },
   "file_extension": ".py",
   "mimetype": "text/x-python",
   "name": "python",
   "nbconvert_exporter": "python",
   "pygments_lexer": "ipython3",
   "version": "3.12.7"
  }
 },
 "nbformat": 4,
 "nbformat_minor": 5
}
